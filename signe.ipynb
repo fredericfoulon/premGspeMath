{
 "cells": [
  {
   "cell_type": "markdown",
   "id": "44f1d1f4",
   "metadata": {},
   "source": [
    "# Sens de variation d'une fonction affine"
   ]
  },
  {
   "cell_type": "markdown",
   "id": "6fb40197",
   "metadata": {},
   "source": [
    "En python , nous allons créer une procédure permettant de donner le sens de variation d'une fonction affine"
   ]
  },
  {
   "cell_type": "markdown",
   "id": "713b0725",
   "metadata": {},
   "source": [
    "voici un exemple de résultat attendu :"
   ]
  },
  {
   "cell_type": "markdown",
   "id": "c3e0ad02",
   "metadata": {},
   "source": [
    "en saisissant : variation(2,3)\n",
    "\n",
    "on obtient : 'croissante'\n"
   ]
  },
  {
   "cell_type": "markdown",
   "id": "57f45163",
   "metadata": {},
   "source": [
    "Compléter le script suivant : "
   ]
  },
  {
   "cell_type": "code",
   "execution_count": null,
   "id": "c6b723a2",
   "metadata": {},
   "outputs": [],
   "source": [
    "from math import *\n",
    "def variation(m,p):\n",
    "    if m == 0 :\n",
    "        var = \"constante\"\n",
    "    elif ... :\n",
    "        \n",
    "    else :\n",
    "        \n",
    "    return "
   ]
  },
  {
   "cell_type": "markdown",
   "id": "c2d1aa69",
   "metadata": {},
   "source": [
    "# Signe d'une expression"
   ]
  },
  {
   "cell_type": "markdown",
   "id": "3d68b2ab",
   "metadata": {},
   "source": [
    "En python , nous allons créer une procédure permettant d'afficher le signe de $mx+p$"
   ]
  },
  {
   "cell_type": "markdown",
   "id": "d22690a4",
   "metadata": {},
   "source": [
    "Nous voulons que, par exemple,  la fonction signe(2,3) retourne $2x+3$ s’annule en $-1.5$ et son signe est -0+ "
   ]
  },
  {
   "cell_type": "markdown",
   "id": "a7ae9720",
   "metadata": {},
   "source": [
    "Compléter le script suivant :"
   ]
  },
  {
   "cell_type": "code",
   "execution_count": null,
   "id": "970e4efb",
   "metadata": {},
   "outputs": [],
   "source": [
    " from math import *\n",
    "def signe(m,p) :\n",
    "    if m==0 :\n",
    "        if p>=0 :\n",
    "            signe = '+'\n",
    "        else :\n",
    "            signe = \n",
    "        print(f\"mx+p est du signe de p, soit ici {signe}\")\n",
    "    elif m>0 :\n",
    "        \n",
    "        print()\n",
    "    else :\n",
    "        \n",
    "        print()"
   ]
  },
  {
   "cell_type": "markdown",
   "id": "dd6df5fd",
   "metadata": {},
   "source": [
    "Tester avec signe (2,3)"
   ]
  },
  {
   "cell_type": "markdown",
   "id": "3dc6e74d",
   "metadata": {},
   "source": [
    "# le signe de $𝑎𝑥^2 + 𝑏𝑥 + 𝑐$ "
   ]
  },
  {
   "cell_type": "markdown",
   "id": "61669302",
   "metadata": {},
   "source": [
    "En python, on peut créer une fonction et une procédure permettant d’afficher le signe de $𝑎𝑥^2 + 𝑏𝑥 + 𝑐$. \n",
    "\n",
    "La fonction racines calculera les solutions de $𝑎𝑥^2 + 𝑏𝑥 + 𝑐=0$ et uen fonction signe qui donnera le signe sous la forme -0+0-.\n"
   ]
  },
  {
   "cell_type": "markdown",
   "id": "b94d4ccf",
   "metadata": {},
   "source": [
    "Voici un exemple de résultat attendu : \n",
    "\n",
    " en saisissant signe(1,5,6)\n",
    "\n",
    "Les racines sont (-2.0, -3.0)\n",
    "Le signe du trinôme est +0-0+\n"
   ]
  },
  {
   "cell_type": "markdown",
   "id": "ec4f8477",
   "metadata": {},
   "source": [
    "**Compléter le script suivant :** "
   ]
  },
  {
   "cell_type": "code",
   "execution_count": 1,
   "id": "6127c8dc",
   "metadata": {},
   "outputs": [],
   "source": [
    "from math import sqrt #on importe la fonction racine carrée\n",
    "#les racines\n",
    "def racines(a,b,c):\n",
    "    delta = b**2 - 4*a*c\n",
    "    if delta > 0:\n",
    "        return (-b+sqrt(delta))/(2*a),(-b-sqrt(delta))/(2*a)\n",
    "    elif delta ...:\n",
    "        return ...\n",
    "#le signe\n",
    "def signe(a,b,c):\n",
    "    delta = b**2 - 4*a*c\n",
    "    if delta > 0 :\n",
    "        print(f\"Les racines sont {racines(a,b,c)}\")\n",
    "        if a>0 :\n",
    "            print(f\" \")\n",
    "        else :\n",
    "            print(f\" \")\n",
    "    elif delta == 0:\n",
    "        print(f\"\")\n",
    "        if a>0 :\n",
    "            print(f\"\")\n",
    "        else :\n",
    "            print(f\"\")\n",
    "    else :\n",
    "        print(f\"\")\n",
    "        if a>0 :\n",
    "            print(f\"\")\n",
    "        else :\n",
    "            print(f\"\")"
   ]
  },
  {
   "cell_type": "code",
   "execution_count": 2,
   "id": "5149772e",
   "metadata": {},
   "outputs": [
    {
     "name": "stdout",
     "output_type": "stream",
     "text": [
      "Les racines sont (0.4641016151377544, -6.464101615137754)\n",
      "Le signe du trinôme est +0-0+\n"
     ]
    }
   ],
   "source": [
    "signe(1,6,-3)\n"
   ]
  },
  {
   "cell_type": "code",
   "execution_count": null,
   "id": "a223d9b1",
   "metadata": {},
   "outputs": [],
   "source": []
  }
 ],
 "metadata": {
  "kernelspec": {
   "display_name": "Python 3",
   "language": "python",
   "name": "python3"
  },
  "language_info": {
   "codemirror_mode": {
    "name": "ipython",
    "version": 3
   },
   "file_extension": ".py",
   "mimetype": "text/x-python",
   "name": "python",
   "nbconvert_exporter": "python",
   "pygments_lexer": "ipython3",
   "version": "3.8.8"
  }
 },
 "nbformat": 4,
 "nbformat_minor": 5
}
