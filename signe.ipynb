{
 "cells": [
  {
   "cell_type": "markdown",
   "id": "44f1d1f4",
   "metadata": {},
   "source": [
    "# Sens de variation d'une fonction affine"
   ]
  },
  {
   "cell_type": "markdown",
   "id": "6fb40197",
   "metadata": {},
   "source": [
    "En python , nous allons créer une procédure permettant de donner le sens de variation d'une fonction affine"
   ]
  },
  {
   "cell_type": "markdown",
   "id": "713b0725",
   "metadata": {},
   "source": [
    "voici un exemple de résultat attendu :"
   ]
  },
  {
   "cell_type": "markdown",
   "id": "c3e0ad02",
   "metadata": {},
   "source": [
    "en saisissant : variation(2,3)\n",
    "\n",
    "on obtient : 'croissante'\n"
   ]
  },
  {
   "cell_type": "markdown",
   "id": "57f45163",
   "metadata": {},
   "source": [
    "Compléter le script suivant : "
   ]
  },
  {
   "cell_type": "code",
   "execution_count": null,
   "id": "c6b723a2",
   "metadata": {},
   "outputs": [],
   "source": [
    "from math import *\n",
    "def variation(m,p):\n",
    "    if m == 0 :\n",
    "        var = \"constante\"\n",
    "    elif ... :\n",
    "        \n",
    "    else :\n",
    "        \n",
    "    return "
   ]
  },
  {
   "cell_type": "markdown",
   "id": "c2d1aa69",
   "metadata": {},
   "source": [
    "# Signe d'une expression"
   ]
  },
  {
   "cell_type": "markdown",
   "id": "3d68b2ab",
   "metadata": {},
   "source": [
    "En python , nous allons créer une procédure permettant d'afficher le signe de $mx+p$"
   ]
  },
  {
   "cell_type": "markdown",
   "id": "d22690a4",
   "metadata": {},
   "source": [
    "Nous voulons que, par exemple,  la fonction signe(2,3) retourne $2x+3$ s’annule en $-1.5$ et son signe est -0+ "
   ]
  },
  {
   "cell_type": "markdown",
   "id": "a7ae9720",
   "metadata": {},
   "source": [
    "Compléter le script suivant :"
   ]
  },
  {
   "cell_type": "code",
   "execution_count": null,
   "id": "970e4efb",
   "metadata": {},
   "outputs": [],
   "source": [
    " from math import *\n",
    "def signe(m,p) :\n",
    "    if m==0 :\n",
    "        if p>=0 :\n",
    "            signe = '+'\n",
    "        else :\n",
    "            signe = \n",
    "        print(f\"mx+p est du signe de p, soit ici {signe}\")\n",
    "    elif m>0 :\n",
    "        \n",
    "        print()\n",
    "    else :\n",
    "        \n",
    "        print()"
   ]
  },
  {
   "cell_type": "markdown",
   "id": "dd6df5fd",
   "metadata": {},
   "source": [
    "Tester avec signe (2,3)"
   ]
  }
 ],
 "metadata": {
  "kernelspec": {
   "display_name": "Python 3",
   "language": "python",
   "name": "python3"
  },
  "language_info": {
   "codemirror_mode": {
    "name": "ipython",
    "version": 3
   },
   "file_extension": ".py",
   "mimetype": "text/x-python",
   "name": "python",
   "nbconvert_exporter": "python",
   "pygments_lexer": "ipython3",
   "version": "3.8.8"
  }
 },
 "nbformat": 4,
 "nbformat_minor": 5
}
