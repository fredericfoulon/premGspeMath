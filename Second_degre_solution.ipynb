{
 "cells": [
  {
   "cell_type": "markdown",
   "id": "382dc4b1",
   "metadata": {},
   "source": [
    "# Le second degré et Python"
   ]
  },
  {
   "cell_type": "markdown",
   "id": "3b8a6ab8",
   "metadata": {},
   "source": [
    "## La forme canonique $f(x)=a(x-\\alpha)^2+\\beta$"
   ]
  },
  {
   "cell_type": "markdown",
   "id": "e8e12fd7",
   "metadata": {},
   "source": [
    "L'objectif est de créer une procédure qui donne la forme canonique d'une fonction du second degré."
   ]
  },
  {
   "cell_type": "markdown",
   "id": "e305b79d",
   "metadata": {},
   "source": [
    "Compléter le programme suivant : "
   ]
  },
  {
   "cell_type": "code",
   "execution_count": 1,
   "id": "b635a480",
   "metadata": {},
   "outputs": [],
   "source": [
    "def formecanonique(a,b,c):\n",
    "    alpha = -b/(2*a)\n",
    "    beta = a*alpha**2+b*alpha+c\n",
    "    return alpha,beta"
   ]
  },
  {
   "cell_type": "markdown",
   "id": "dff784ad",
   "metadata": {},
   "source": [
    "Tester votre programme avec $a=-3$,$b=-5$ et $c=2$."
   ]
  },
  {
   "cell_type": "code",
   "execution_count": 2,
   "id": "77b4c92f",
   "metadata": {},
   "outputs": [
    {
     "data": {
      "text/plain": [
       "(-0.8333333333333334, 4.083333333333334)"
      ]
     },
     "execution_count": 2,
     "metadata": {},
     "output_type": "execute_result"
    }
   ],
   "source": [
    "formecanonique(-3,-5,2)\n"
   ]
  },
  {
   "cell_type": "markdown",
   "id": "c7bf15e0",
   "metadata": {},
   "source": [
    "### Création procédure **analyse trinôme** du second degré"
   ]
  },
  {
   "cell_type": "markdown",
   "id": "e7d0aed3",
   "metadata": {},
   "source": [
    "Créer une procédure **analyse trinôme** du second degré qui :\n",
    "- prendra en paramètres les coefficients a,b et c\n",
    "- affichera les coordonnées du sommet de la parabole représentant le trinôme\n",
    "- indiquera l'orientation de la parabole "
   ]
  },
  {
   "cell_type": "markdown",
   "id": "db43e1ba",
   "metadata": {},
   "source": [
    "on devra avoir, par exemple : \n",
    "analysetrinome(-1,2,-3)\n",
    "Le sommet de la parabole  a pour coordonnées (1.0,-2.0)\n",
    "La parabole est ouverte vers le bas."
   ]
  },
  {
   "cell_type": "markdown",
   "id": "90bc225d",
   "metadata": {},
   "source": [
    "Le programme est à compléter ci-dessous : "
   ]
  },
  {
   "cell_type": "code",
   "execution_count": 3,
   "id": "d038c5ab",
   "metadata": {},
   "outputs": [],
   "source": [
    "def analysetrinome(a,b,c):\n",
    "    alpha = -b/(2*a)\n",
    "    beta = a*alpha**2+b*alpha+c\n",
    "    print(f\"Le sommet de la parabole a pour coordonnées ({alpha},{beta})\")\n",
    "    if a >0  : \n",
    "        print(\"La parabole est ouverte vers le haut\")\n",
    "    else: \n",
    "        print(\"La parabole est ouverte vers le bas\")"
   ]
  },
  {
   "cell_type": "code",
   "execution_count": 4,
   "id": "133c2b19",
   "metadata": {},
   "outputs": [
    {
     "name": "stdout",
     "output_type": "stream",
     "text": [
      "Le sommet de la parabole a pour coordonnées (1.0,-2.0)\n",
      "La parabole est ouverte vers le bas\n"
     ]
    }
   ],
   "source": [
    "analysetrinome(-1,2,-3)\n"
   ]
  },
  {
   "cell_type": "markdown",
   "id": "250d20af",
   "metadata": {},
   "source": [
    "## La résolution de l'équation  $ax^2+bx+x=0$"
   ]
  },
  {
   "cell_type": "markdown",
   "id": "b981df70",
   "metadata": {},
   "source": [
    "L'objectif est de créer une procédure qui résout une équation du second degré."
   ]
  },
  {
   "cell_type": "markdown",
   "id": "be4cda16",
   "metadata": {},
   "source": [
    "### Création de la fonction discriminant"
   ]
  },
  {
   "cell_type": "markdown",
   "id": "800412fa",
   "metadata": {},
   "source": [
    "Créer une fonction discriminant  qui calcule le discriminant."
   ]
  },
  {
   "cell_type": "markdown",
   "id": "5438da17",
   "metadata": {},
   "source": [
    "on devra avoir, par exemple : \n",
    "delta(-3,-5,2)\n",
    "49"
   ]
  },
  {
   "cell_type": "code",
   "execution_count": 5,
   "id": "4c796921",
   "metadata": {},
   "outputs": [],
   "source": [
    "def delta(a,b,c):\n",
    "    delta = b**2-4*a*c\n",
    "    return delta"
   ]
  },
  {
   "cell_type": "markdown",
   "id": "fc01900a",
   "metadata": {},
   "source": [
    "Tester ci-dessous :"
   ]
  },
  {
   "cell_type": "code",
   "execution_count": 6,
   "id": "04c1f98d",
   "metadata": {},
   "outputs": [
    {
     "data": {
      "text/plain": [
       "-4"
      ]
     },
     "execution_count": 6,
     "metadata": {},
     "output_type": "execute_result"
    }
   ],
   "source": [
    "delta(1,4,5)\n"
   ]
  },
  {
   "cell_type": "markdown",
   "id": "fe1683c2",
   "metadata": {},
   "source": [
    "### Création de la procédure racines "
   ]
  },
  {
   "cell_type": "markdown",
   "id": "0fc6f7d9",
   "metadata": {},
   "source": [
    "Créer une procédure nommée **racines** qui :\n",
    "- prendra en paramètres les coefficients a,b et c\n",
    "- affichera le discriminant  \n",
    "- indiquera le nombre et les racines éventuelles "
   ]
  },
  {
   "cell_type": "code",
   "execution_count": 9,
   "id": "be472e58",
   "metadata": {},
   "outputs": [],
   "source": [
    "from math import sqrt # on importe la fonction racine carrée du module math\n",
    "\n",
    "def racine(a,b,c):\n",
    "    d = delta(a,b,c)\n",
    "    print(f\"Delta={d}\")\n",
    "    if d<0:\n",
    "        print(\"Aucune racine\")\n",
    "    elif d==0:\n",
    "        print(f\"Une racine, {-b/(2*a)}\")\n",
    "    else:\n",
    "        print(f\"deux racines, x_1={(-b-sqrt(d))/(2*a)} et x_2={(-b+sqrt(d))/(2*a)}\")"
   ]
  },
  {
   "cell_type": "markdown",
   "id": "0c353777",
   "metadata": {},
   "source": [
    "Tester avec :$a=-3$, $b=-5$ et $c=2$ "
   ]
  },
  {
   "cell_type": "code",
   "execution_count": 10,
   "id": "b83f8a3b",
   "metadata": {},
   "outputs": [
    {
     "name": "stdout",
     "output_type": "stream",
     "text": [
      "Delta=49\n",
      "deux racines, x_1=0.3333333333333333 et x_2=-2.0\n"
     ]
    }
   ],
   "source": [
    "racine(-3,-5,2)"
   ]
  },
  {
   "cell_type": "markdown",
   "id": "847ec0bd",
   "metadata": {},
   "source": [
    "Tester avec :  $a=1$, $b=1$ et $c=1$"
   ]
  },
  {
   "cell_type": "code",
   "execution_count": null,
   "id": "22e124db",
   "metadata": {},
   "outputs": [],
   "source": []
  },
  {
   "cell_type": "markdown",
   "id": "557142e7",
   "metadata": {},
   "source": [
    "Tester avec :$a=1$, $b=-2$ et $c=1$"
   ]
  },
  {
   "cell_type": "code",
   "execution_count": null,
   "id": "c674b892",
   "metadata": {},
   "outputs": [],
   "source": []
  }
 ],
 "metadata": {
  "kernelspec": {
   "display_name": "Python 3",
   "language": "python",
   "name": "python3"
  },
  "language_info": {
   "codemirror_mode": {
    "name": "ipython",
    "version": 3
   },
   "file_extension": ".py",
   "mimetype": "text/x-python",
   "name": "python",
   "nbconvert_exporter": "python",
   "pygments_lexer": "ipython3",
   "version": "3.8.8"
  }
 },
 "nbformat": 4,
 "nbformat_minor": 5
}
