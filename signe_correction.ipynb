{
 "cells": [
  {
   "cell_type": "markdown",
   "id": "44ee7899",
   "metadata": {},
   "source": [
    "# Sens de variation d'une fonction affine"
   ]
  },
  {
   "cell_type": "markdown",
   "id": "0708a1e5",
   "metadata": {},
   "source": [
    "En python , nous allons créer une procédure permettant de donner le sens de variation d'une fonction affine"
   ]
  },
  {
   "cell_type": "code",
   "execution_count": 8,
   "id": "7b4ac1af",
   "metadata": {},
   "outputs": [],
   "source": [
    "from math import *\n",
    "def variation(m,p):\n",
    "    if m == 0 :\n",
    "        var = \"constante\"\n",
    "    elif m>0:\n",
    "        var = \"croissante\"\n",
    "    else :\n",
    "        var = \"décroissante\n",
    "    return var"
   ]
  },
  {
   "cell_type": "code",
   "execution_count": 11,
   "id": "6c91e098",
   "metadata": {},
   "outputs": [
    {
     "data": {
      "text/plain": [
       "'constante'"
      ]
     },
     "execution_count": 11,
     "metadata": {},
     "output_type": "execute_result"
    }
   ],
   "source": [
    "variation(0,5)"
   ]
  },
  {
   "cell_type": "markdown",
   "id": "190aa61f",
   "metadata": {},
   "source": [
    "# Signe d'une expression"
   ]
  },
  {
   "cell_type": "markdown",
   "id": "d499d854",
   "metadata": {},
   "source": [
    "En python , nous allons créer une procédure permettant d'afficher le signe de $mx+p$"
   ]
  },
  {
   "cell_type": "code",
   "execution_count": 5,
   "id": "22b1ea49",
   "metadata": {},
   "outputs": [],
   "source": [
    "from math import *\n",
    "def signe(m,p) :\n",
    "    if m==0 :\n",
    "        if p>=0 :\n",
    "            signe = '+'\n",
    "        else :\n",
    "            signe = '-'\n",
    "        print(f\"{m}x+{p} est du signe de p, soit ici {signe}\")\n",
    "    elif m>0 :\n",
    "        racine , signe = -p/m , '-0+'\n",
    "        print(f\"{m}x+{p} s’annule en {racine} et son signe est {signe}\")\n",
    "    else :\n",
    "        racine , signe = -p/m , '+0-'\n",
    "        print(f\"{m}x+{p} s’annule en {racine} et son signe est {signe}\")"
   ]
  },
  {
   "cell_type": "code",
   "execution_count": 6,
   "id": "ab94ef19",
   "metadata": {},
   "outputs": [
    {
     "name": "stdout",
     "output_type": "stream",
     "text": [
      "2x+3 s’annule en -1.5 et son signe est -0+\n"
     ]
    }
   ],
   "source": [
    "signe(2,3)"
   ]
  },
  {
   "cell_type": "code",
   "execution_count": null,
   "id": "ee689e40",
   "metadata": {},
   "outputs": [],
   "source": []
  }
 ],
 "metadata": {
  "kernelspec": {
   "display_name": "Python 3",
   "language": "python",
   "name": "python3"
  },
  "language_info": {
   "codemirror_mode": {
    "name": "ipython",
    "version": 3
   },
   "file_extension": ".py",
   "mimetype": "text/x-python",
   "name": "python",
   "nbconvert_exporter": "python",
   "pygments_lexer": "ipython3",
   "version": "3.8.8"
  }
 },
 "nbformat": 4,
 "nbformat_minor": 5
}
